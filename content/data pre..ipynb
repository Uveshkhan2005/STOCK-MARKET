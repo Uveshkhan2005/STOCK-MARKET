{
 "cells": [
  {
   "cell_type": "code",
   "execution_count": 1,
   "id": "8e82193e-ba9a-4690-9b0b-b65a07551360",
   "metadata": {},
   "outputs": [],
   "source": [
    "# DATA PREPROCESSING :\n",
    "\n",
    "import pandas as pd\n",
    "import numpy as np\n",
    "import matplotlib.pyplot as plt\n"
   ]
  },
  {
   "cell_type": "code",
   "execution_count": 2,
   "id": "80ac346e-cfbb-417f-83db-b5fcb00df436",
   "metadata": {},
   "outputs": [],
   "source": [
    "# LOAD DATASET :\n",
    "data = pd.read_csv('STOCK DETAILS.csv')"
   ]
  },
  {
   "cell_type": "code",
   "execution_count": 3,
   "id": "06c95a02-3a17-4b56-84c6-9c1025224fd1",
   "metadata": {},
   "outputs": [
    {
     "name": "stdout",
     "output_type": "stream",
     "text": [
      "                        Date        Open        High         Low       Close  \\\n",
      "0  2018-11-29 00:00:00-05:00   43.829761   43.863354   42.639594   43.083508   \n",
      "1  2018-11-29 00:00:00-05:00  104.769074  105.519257  103.534595  104.636131   \n",
      "2  2018-11-29 00:00:00-05:00   54.176498   55.007500   54.099998   54.729000   \n",
      "3  2018-11-29 00:00:00-05:00   83.749496   84.499496   82.616501   83.678497   \n",
      "4  2018-11-29 00:00:00-05:00   39.692784   40.064904   38.735195   39.037853   \n",
      "\n",
      "      Volume  Dividends  Stock Splits Company  \n",
      "0  167080000       0.00           0.0    AAPL  \n",
      "1   28123200       0.00           0.0    MSFT  \n",
      "2   31004000       0.00           0.0   GOOGL  \n",
      "3  132264000       0.00           0.0    AMZN  \n",
      "4   54917200       0.04           0.0    NVDA  \n",
      "<class 'pandas.core.frame.DataFrame'>\n",
      "RangeIndex: 602962 entries, 0 to 602961\n",
      "Data columns (total 9 columns):\n",
      " #   Column        Non-Null Count   Dtype  \n",
      "---  ------        --------------   -----  \n",
      " 0   Date          602962 non-null  object \n",
      " 1   Open          602962 non-null  float64\n",
      " 2   High          602962 non-null  float64\n",
      " 3   Low           602962 non-null  float64\n",
      " 4   Close         602962 non-null  float64\n",
      " 5   Volume        602962 non-null  int64  \n",
      " 6   Dividends     602962 non-null  float64\n",
      " 7   Stock Splits  602962 non-null  float64\n",
      " 8   Company       602962 non-null  object \n",
      "dtypes: float64(6), int64(1), object(2)\n",
      "memory usage: 41.4+ MB\n",
      "None\n"
     ]
    }
   ],
   "source": [
    "# Quick look at the data\n",
    "print(data.head())\n",
    "print(data.info())"
   ]
  },
  {
   "cell_type": "code",
   "execution_count": 4,
   "id": "fbaf19b6-7c45-45a5-92ed-90365cff4b7e",
   "metadata": {},
   "outputs": [
    {
     "name": "stdout",
     "output_type": "stream",
     "text": [
      "Total rows for AAPL: 1258\n"
     ]
    }
   ],
   "source": [
    "company_name = 'AAPL'  \n",
    "\n",
    "# Filter rows for this company only\n",
    "data_company = data[data['Company'] == 'AAPL'].copy()\n",
    "\n",
    "print(f\"Total rows for {'AAPL'}: {len(data_company)}\")\n"
   ]
  },
  {
   "cell_type": "code",
   "execution_count": 5,
   "id": "6df0a526-0f6f-41d1-a490-f7552237f7d9",
   "metadata": {},
   "outputs": [],
   "source": [
    "# converts date column to date and time formate :\n",
    "data_company['Date'] = pd.to_datetime(data_company['Date'], utc=True)\n",
    "data_company['Date'] = data_company['Date'].dt.tz_convert(None)\n"
   ]
  },
  {
   "cell_type": "code",
   "execution_count": 6,
   "id": "f93ecf60-e93b-40c0-af04-154c7d334caa",
   "metadata": {},
   "outputs": [],
   "source": [
    "# sort data by 'date' and reset index:\n",
    "data_company.sort_values('Date', inplace=True)\n",
    "data_company.reset_index(drop=True, inplace=True)\n"
   ]
  },
  {
   "cell_type": "code",
   "execution_count": 7,
   "id": "1a88b146-fceb-4700-9dc0-2501dd998714",
   "metadata": {},
   "outputs": [
    {
     "name": "stdout",
     "output_type": "stream",
     "text": [
      "Data shape for last 200 days: (200, 9)\n"
     ]
    }
   ],
   "source": [
    "# checking last 200 rows iof data and its shape :\n",
    "data_200 = data_company.tail(200).copy()\n",
    "print(f\"Data shape for last 200 days: {data_200.shape}\")"
   ]
  },
  {
   "cell_type": "code",
   "execution_count": 8,
   "id": "7c306cb5-0b22-46cb-8ae1-30c9782313bb",
   "metadata": {},
   "outputs": [
    {
     "name": "stdout",
     "output_type": "stream",
     "text": [
      "Date            0\n",
      "Open            0\n",
      "High            0\n",
      "Low             0\n",
      "Close           0\n",
      "Volume          0\n",
      "Dividends       0\n",
      "Stock Splits    0\n",
      "Company         0\n",
      "dtype: int64\n"
     ]
    }
   ],
   "source": [
    "# check for missing values :\n",
    "print(data_200.isnull().sum())"
   ]
  },
  {
   "cell_type": "code",
   "execution_count": 9,
   "id": "f66e2284-1149-415a-9b9c-85821c7487cd",
   "metadata": {},
   "outputs": [],
   "source": [
    "# calculating daitly price change nd average og 'close' price :\n",
    "data_200['price_change'] = data_200['Close'] - data_200['Open']  \n",
    "data_200['return_pct'] = data_200['Close'].pct_change()"
   ]
  },
  {
   "cell_type": "code",
   "execution_count": 10,
   "id": "c115d057-aae7-4755-99f3-d597ee6e4bca",
   "metadata": {},
   "outputs": [],
   "source": [
    "# 7 days nd 14 days moving averge :\n",
    "data_200['ma_7'] = data_200['Close'].rolling(window=7).mean()\n",
    "data_200['ma_14'] = data_200['Close'].rolling(window=14).mean()"
   ]
  },
  {
   "cell_type": "code",
   "execution_count": 13,
   "id": "3220ca52-4ffc-48bb-b6c9-3e410dbadcec",
   "metadata": {},
   "outputs": [],
   "source": [
    "data_200.to_csv(f'{'AAPL'}_last_200_days_cleandata.csv', index=False)"
   ]
  },
  {
   "cell_type": "code",
   "execution_count": 15,
   "id": "f51357cf-23e1-4c5c-96fc-8fabadf3a272",
   "metadata": {},
   "outputs": [],
   "source": [
    "data_company.to_csv('Data PreProcessing main.csv', index=False)"
   ]
  },
  {
   "cell_type": "code",
   "execution_count": null,
   "id": "46fdc981-6368-4038-b05f-5ff14b1199ce",
   "metadata": {},
   "outputs": [],
   "source": []
  }
 ],
 "metadata": {
  "kernelspec": {
   "display_name": "Python 3 (ipykernel)",
   "language": "python",
   "name": "python3"
  },
  "language_info": {
   "codemirror_mode": {
    "name": "ipython",
    "version": 3
   },
   "file_extension": ".py",
   "mimetype": "text/x-python",
   "name": "python",
   "nbconvert_exporter": "python",
   "pygments_lexer": "ipython3",
   "version": "3.13.5"
  }
 },
 "nbformat": 4,
 "nbformat_minor": 5
}
